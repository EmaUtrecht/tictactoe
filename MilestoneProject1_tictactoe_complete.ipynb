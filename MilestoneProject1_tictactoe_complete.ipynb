{
 "cells": [
  {
   "cell_type": "markdown",
   "metadata": {},
   "source": [
    "___\n",
    "\n",
    "<a href='https://www.udemy.com/user/joseportilla/'><img src='../Pierian_Data_Logo.png'/></a>\n",
    "___\n",
    "<center><em>Content Copyright by Pierian Data</em></center>"
   ]
  },
  {
   "cell_type": "markdown",
   "metadata": {},
   "source": [
    "# Milestone Project 1\n",
    "## Congratulations on making it to your first milestone!\n",
    "You've already learned a ton and are ready to work on a real project.\n",
    "\n",
    "Your assignment: Create a Tic Tac Toe game. You are free to use any IDE you like.\n",
    "\n",
    "Here are the requirements:\n",
    "\n",
    "* 2 players should be able to play the game (both sitting at the same computer)\n",
    "* The board should be printed out every time a player makes a move\n",
    "* You should be able to accept input of the player position and then place a symbol on the board\n",
    "\n",
    "Feel free to use Google to help you figure anything out (but don't just Google \"Tic Tac Toe in Python\" otherwise you won't learn anything!) Keep in mind that this project can take anywhere between several hours to several days.\n",
    "\n",
    "There are 4 Jupyter Notebooks related to this assignment:\n",
    "\n",
    "* This Assignment Notebook\n",
    "* A \"Walkthrough Steps Workbook\" Notebook\n",
    "* A \"Complete Walkthrough Solution\" Notebook\n",
    "* An \"Advanced Solution\" Notebook\n",
    "\n",
    "I encourage you to just try to start the project on your own without referencing any of the notebooks. If you get stuck, check out the next lecture which is a text lecture with helpful hints and steps. If you're still stuck after that, then check out the Walkthrough Steps Workbook, which breaks up the project in steps for you to solve. Still stuck? Then check out the Complete Walkthrough Solution video for more help on approaching the project!"
   ]
  },
  {
   "cell_type": "markdown",
   "metadata": {},
   "source": [
    "There are parts of this that will be a struggle...and that is good! I have complete faith that if you have made it this far through the course you have all the tools and knowledge to tackle this project. Remember, it's totally open book, so take your time, do a little research, and remember:\n",
    "\n",
    "## HAVE FUN!"
   ]
  },
  {
   "cell_type": "code",
   "execution_count": 73,
   "metadata": {},
   "outputs": [
    {
     "name": "stdout",
     "output_type": "stream",
     "text": [
      "Please pick a marker 'X' or 'O'O\n"
     ]
    }
   ],
   "source": [
    "#players choose markers\n",
    "\n",
    "player1 = input(\"Please pick a marker 'X' or 'O'\")\n"
   ]
  },
  {
   "cell_type": "code",
   "execution_count": null,
   "metadata": {},
   "outputs": [],
   "source": [
    "if player1==\"X\":\n",
    "    player2=\"O\"\n",
    "else:\n",
    "    player2=\"X\""
   ]
  },
  {
   "cell_type": "code",
   "execution_count": 81,
   "metadata": {},
   "outputs": [],
   "source": [
    "players=[player1, player2]\n",
    "import random\n",
    "def choose_first(players):\n",
    "    first_player=random.choice (players)\n",
    "    print(f'{first_player} goes first')\n",
    "    return first_player"
   ]
  },
  {
   "cell_type": "code",
   "execution_count": 82,
   "metadata": {},
   "outputs": [
    {
     "name": "stdout",
     "output_type": "stream",
     "text": [
      "O goes first\n",
      "O\n"
     ]
    }
   ],
   "source": [
    "player=choose_first(players)\n",
    "print(player)"
   ]
  },
  {
   "cell_type": "code",
   "execution_count": 61,
   "metadata": {},
   "outputs": [],
   "source": [
    "#start with empty board\n",
    "test_board = ['#','#','#','#','#','#','#','#','#']\n",
    "numerical_board=list(range(0,9,1)) #need to cast to list"
   ]
  },
  {
   "cell_type": "code",
   "execution_count": 62,
   "metadata": {},
   "outputs": [
    {
     "name": "stdout",
     "output_type": "stream",
     "text": [
      "current board\n",
      "['#', '#', '#']\n",
      "['#', '#', '#']\n",
      "['#', '#', '#']\n",
      "numerical positions of board\n",
      "[0, 1, 2]\n",
      "[3, 4, 5]\n",
      "[6, 7, 8]\n"
     ]
    }
   ],
   "source": [
    "def display_board(board):\n",
    "    #break the list of marks into rows \n",
    "    rows={0:[0,1,2], 1:[3,4,5], 2:[6,7,8]}\n",
    "    print(\"current board\")\n",
    "    for i in rows:\n",
    "        start=rows[i][0]\n",
    "        end=(rows[i][-1])+1 #slice up to but NOT INCLUDING end designation\n",
    "        print(board[start:end:1])\n",
    "    print(\"numerical positions of board\")\n",
    "    for i in rows:\n",
    "        start=rows[i][0]\n",
    "        end=(rows[i][-1])+1 #slice up to but NOT INCLUDING end designation\n",
    "        print(numerical_board[start:end:1])\n",
    "    \n",
    "display_board(test_board)"
   ]
  },
  {
   "cell_type": "code",
   "execution_count": 72,
   "metadata": {},
   "outputs": [
    {
     "name": "stdout",
     "output_type": "stream",
     "text": [
      "[0, 1, 2, 3, 5, 6, 7, 8]\n"
     ]
    }
   ],
   "source": [
    "# need to isolate available positions on board\n",
    "def check_open(x):\n",
    "    open_positions=[]\n",
    "    for i in range(0,(len(x)),):\n",
    "        if x[i]==\"#\":\n",
    "            open_positions.append(i)\n",
    "    return(open_positions)\n",
    "\n",
    "open_positions=check_open(test_board)\n",
    "print(open_positions)"
   ]
  },
  {
   "cell_type": "code",
   "execution_count": 65,
   "metadata": {},
   "outputs": [],
   "source": [
    "def player_input(player):\n",
    "    player_move=int(input(f'{player}, choose open board position: {open_positions}'))\n",
    "    if player_move in open_positions:\n",
    "        test_board[player_move]=player \n",
    "    else:\n",
    "        player1move=int(input(f'{player}, choose OPEN board position: {open_positions}'))\n",
    "        if player_move in open_positions:\n",
    "            test_board[player_move]=player\n",
    "                "
   ]
  },
  {
   "cell_type": "code",
   "execution_count": null,
   "metadata": {},
   "outputs": [],
   "source": [
    "player_input(player)\n"
   ]
  },
  {
   "cell_type": "code",
   "execution_count": 77,
   "metadata": {},
   "outputs": [],
   "source": [
    "def change_player (player):\n",
    "    if player==player1:\n",
    "        return player2\n",
    "    else:\n",
    "        return player1"
   ]
  },
  {
   "cell_type": "code",
   "execution_count": 78,
   "metadata": {},
   "outputs": [
    {
     "name": "stdout",
     "output_type": "stream",
     "text": [
      "O\n"
     ]
    }
   ],
   "source": [
    "player=change_player(player)\n",
    "print(player)"
   ]
  },
  {
   "cell_type": "code",
   "execution_count": null,
   "metadata": {},
   "outputs": [],
   "source": [
    "winningCombos=[[0,1,2],[3,4,5], [6,7,8],[0,3,6], [1,4,7],[2,5,8],[0,4,8], [2,4,6]]\n",
    "\n",
    "def winning(combo):\n",
    "    return combo==[player,player,player]\n",
    "\n",
    "def check_win(test_board):\n",
    "    wins=[]   \n",
    "    for i in winningCombos:\n",
    "        combo=[]\n",
    "        for j in i:\n",
    "            combo.append(test_board[j])\n",
    "        print(combo)\n",
    "        print(player)\n",
    "        if combo==[player,player,player]:\n",
    "            wins.append(\"Yes\")\n",
    "        else:\n",
    "            wins.append(\"No\")\n",
    "    if \"Yes\" in wins:\n",
    "        print(f\"Game Over: {player} wins\")\n",
    "        return \"Game Over\"\n",
    "    else:\n",
    "        print(\"Keep Playing\")\n",
    "        return \"Yes\"\n",
    "           \n",
    "  "
   ]
  },
  {
   "cell_type": "code",
   "execution_count": 116,
   "metadata": {},
   "outputs": [
    {
     "name": "stdout",
     "output_type": "stream",
     "text": [
      "['O', 'X', 'O']\n",
      "['O', 'X', 'O']\n",
      "['X', 'O', 'X']\n",
      "['O', 'O', 'X']\n",
      "['X', 'X', 'O']\n",
      "['O', 'O', 'X']\n",
      "['O', 'X', 'X']\n",
      "['O', 'X', 'X']\n",
      "Keep Playing\n",
      "Yes\n"
     ]
    }
   ],
   "source": [
    "test_board=[\"O\",\"X\",\"O\",\"O\",\"X\",\"O\",\"X\",\"O\",\"X\"]\n",
    "gameOn=check_win(test_board)\n",
    "print(gameOn)"
   ]
  },
  {
   "cell_type": "code",
   "execution_count": 121,
   "metadata": {},
   "outputs": [
    {
     "name": "stdout",
     "output_type": "stream",
     "text": [
      "Welcome to Tic Tac Toe\n",
      "Would you like to play? Choose Yes or NoYes\n",
      "Please pick a marker 'X' or 'O'X\n",
      "X goes first\n",
      "current board\n",
      "['#', '#', '#']\n",
      "['#', '#', '#']\n",
      "['#', '#', '#']\n",
      "numerical positions of board\n",
      "[0, 1, 2]\n",
      "[3, 4, 5]\n",
      "[6, 7, 8]\n",
      "X, choose open board position: [0, 1, 2, 3, 4, 5, 6, 7, 8]4\n",
      "['#', '#', '#']\n",
      "['#', 'X', '#']\n",
      "['#', '#', '#']\n",
      "['#', '#', '#']\n",
      "['#', 'X', '#']\n",
      "['#', '#', '#']\n",
      "['#', 'X', '#']\n",
      "['#', 'X', '#']\n",
      "Keep Playing\n",
      "current board\n",
      "['#', '#', '#']\n",
      "['#', 'X', '#']\n",
      "['#', '#', '#']\n",
      "numerical positions of board\n",
      "[0, 1, 2]\n",
      "[3, 4, 5]\n",
      "[6, 7, 8]\n",
      "O, choose open board position: [0, 1, 2, 3, 5, 6, 7, 8]0\n",
      "['O', '#', '#']\n",
      "['#', 'X', '#']\n",
      "['#', '#', '#']\n",
      "['O', '#', '#']\n",
      "['#', 'X', '#']\n",
      "['#', '#', '#']\n",
      "['O', 'X', '#']\n",
      "['#', 'X', '#']\n",
      "Keep Playing\n",
      "current board\n",
      "['O', '#', '#']\n",
      "['#', 'X', '#']\n",
      "['#', '#', '#']\n",
      "numerical positions of board\n",
      "[0, 1, 2]\n",
      "[3, 4, 5]\n",
      "[6, 7, 8]\n",
      "X, choose open board position: [1, 2, 3, 5, 6, 7, 8]1\n",
      "['O', 'X', '#']\n",
      "['#', 'X', '#']\n",
      "['#', '#', '#']\n",
      "['O', '#', '#']\n",
      "['X', 'X', '#']\n",
      "['#', '#', '#']\n",
      "['O', 'X', '#']\n",
      "['#', 'X', '#']\n",
      "Keep Playing\n",
      "current board\n",
      "['O', 'X', '#']\n",
      "['#', 'X', '#']\n",
      "['#', '#', '#']\n",
      "numerical positions of board\n",
      "[0, 1, 2]\n",
      "[3, 4, 5]\n",
      "[6, 7, 8]\n",
      "O, choose open board position: [2, 3, 5, 6, 7, 8]2\n",
      "['O', 'X', 'O']\n",
      "['#', 'X', '#']\n",
      "['#', '#', '#']\n",
      "['O', '#', '#']\n",
      "['X', 'X', '#']\n",
      "['O', '#', '#']\n",
      "['O', 'X', '#']\n",
      "['O', 'X', '#']\n",
      "Keep Playing\n",
      "current board\n",
      "['O', 'X', 'O']\n",
      "['#', 'X', '#']\n",
      "['#', '#', '#']\n",
      "numerical positions of board\n",
      "[0, 1, 2]\n",
      "[3, 4, 5]\n",
      "[6, 7, 8]\n",
      "X, choose open board position: [3, 5, 6, 7, 8]7\n",
      "['O', 'X', 'O']\n",
      "['#', 'X', '#']\n",
      "['#', 'X', '#']\n",
      "['O', '#', '#']\n",
      "['X', 'X', 'X']\n",
      "['O', '#', '#']\n",
      "['O', 'X', '#']\n",
      "['O', 'X', '#']\n",
      "Game Over: X wins\n"
     ]
    }
   ],
   "source": [
    "#put the pieces together\n",
    "\n",
    "#start with empty board\n",
    "test_board = ['#','#','#','#','#','#','#','#','#']\n",
    "numerical_board=list(range(0,9,1)) #need to cast to list\n",
    "\n",
    "\n",
    "print (\"Welcome to Tic Tac Toe\")\n",
    "\n",
    "gameOn=input(\"Would you like to play? Choose Yes or No\")\n",
    "\n",
    "    #players choose markers\n",
    "if gameOn==\"Yes\":\n",
    "    player1 = input(\"Please pick a marker 'X' or 'O'\")\n",
    "\n",
    "    if player1==\"X\":\n",
    "        player2=\"O\"\n",
    "    else:\n",
    "        player2=\"X\"\n",
    "\n",
    "    players=[player1, player2]\n",
    "\n",
    "    player=choose_first(players)\n",
    "\n",
    "    while gameOn==\"Yes\":\n",
    "        if len(open_positions)>0:\n",
    "            display_board(test_board)\n",
    "            open_positions=check_open(test_board)\n",
    "            player_input(player)\n",
    "            gameOn=check_win(test_board)\n",
    "            player=change_player(player)\n",
    "        else:\n",
    "            gameOn=\"Game Over\""
   ]
  },
  {
   "cell_type": "code",
   "execution_count": 122,
   "metadata": {},
   "outputs": [
    {
     "name": "stdout",
     "output_type": "stream",
     "text": [
      "['O', 'X', 'O']\n",
      "['#', 'X', '#']\n",
      "['#', 'X', '#']\n",
      "['O', '#', '#']\n",
      "['X', 'X', 'X']\n",
      "['O', '#', '#']\n",
      "['O', 'X', '#']\n",
      "['O', 'X', '#']\n",
      "Keep Playing\n"
     ]
    },
    {
     "data": {
      "text/plain": [
       "'Yes'"
      ]
     },
     "execution_count": 122,
     "metadata": {},
     "output_type": "execute_result"
    }
   ],
   "source": [
    "check_win(test_board)"
   ]
  },
  {
   "cell_type": "code",
   "execution_count": 120,
   "metadata": {},
   "outputs": [
    {
     "name": "stdout",
     "output_type": "stream",
     "text": [
      "X\n"
     ]
    }
   ],
   "source": [
    "print(player)\n",
    "    \n",
    "    "
   ]
  },
  {
   "cell_type": "code",
   "execution_count": null,
   "metadata": {},
   "outputs": [],
   "source": [
    "winningCombos=[[0,1,2],[3,4,5], [6,7,8],[0,3,6], [1,4,7],[2,5,8],[0,4,8], [2,4,6]]\n",
    "\n",
    "\n",
    "def check_win(test_board):\n",
    "    if current_player==player1:\n",
    "        for i in winningCombos:\n",
    "            combo=[]\n",
    "            for j in i:\n",
    "                combo.append(test_board[j])\n",
    "            if combo==[player1,player1,player1]:\n",
    "                print(\"Game Over: Player 1 wins\")\n",
    "                return True\n",
    "            \n",
    "                \n",
    "    if current_player==player2:\n",
    "        for i in winningCombos:\n",
    "            combo=[]\n",
    "            for j in i:\n",
    "                combo.append(test_board[j])\n",
    "            if combo==[player2,player2,player2]:\n",
    "                print(\"Game Over: Player 2 wins\")\n",
    "                return True\n",
    "                "
   ]
  },
  {
   "cell_type": "code",
   "execution_count": null,
   "metadata": {},
   "outputs": [],
   "source": [
    "#start with empty board\n",
    "test_board = ['#','#','#','#','#','#','#','#','#']\n",
    "numerical_board=list(range(0,9,1)) #need to cast to list\n",
    "\n",
    "#winning condition starts FALSE\n",
    "win=False\n",
    "\n",
    "#take user input for an open position and write it onto the board\n",
    "import random\n",
    "\n",
    "def choose_first():\n",
    "    pass\n",
    "current_player=\n",
    "\n",
    "def change_player (current_player):\n",
    "    if player==player1:\n",
    "        return player2\n",
    "    else:\n",
    "        return player1\n",
    "    \n",
    "\n",
    "    \n",
    "def player_input(player):\n",
    "    player_move=int(input(f'{player}, choose open board position: {open_positions}'))\n",
    "        if player_move in open_positions:\n",
    "            test_board[player_move]=player \n",
    "        else:\n",
    "            player1move=int(input(f'{player}, choose OPEN board position: {open_positions}'))\n",
    "            if player_move in open_positions:\n",
    "                test_board[player_move]=player\n",
    "                \n",
    "#need to check winning conditions after each turn\n",
    "#rows to win, [0,1,2],[3,4,5], [6,7,8]\n",
    "#columns to win [0,3,6], [1,4,7],[2,5,8]\n",
    "#diagnonals to win [0,4,8], [2,4,6]\n",
    "\n",
    "winningCombos=[[0,1,2],[3,4,5], [6,7,8],[0,3,6], [1,4,7],[2,5,8],[0,4,8], [2,4,6]]\n",
    "\n",
    "\n",
    "def check_win(test_board):\n",
    "    if current_player==player1:\n",
    "        for i in winningCombos:\n",
    "            combo=[]\n",
    "            for j in i:\n",
    "                combo.append(test_board[j])\n",
    "            if combo==[player1,player1,player1]:\n",
    "                print(\"Game Over: Player 1 wins\")\n",
    "                return True\n",
    "            \n",
    "                \n",
    "    if current_player==player2:\n",
    "        for i in winningCombos:\n",
    "            combo=[]\n",
    "            for j in i:\n",
    "                combo.append(test_board[j])\n",
    "            if combo==[player2,player2,player2]:\n",
    "                print(\"Game Over: Player 2 wins\")\n",
    "                return True\n",
    "                \n",
    "            \n",
    "open_positions=check_open(test_board)  \n",
    "display_board(test_board)\n",
    "\n",
    "while (win!=True):\n",
    "    \n",
    "    while current_player==player1:\n",
    "        player1move=int(input(f'Player 1, choose open board position: {open_positions}'))\n",
    "        if player1move in open_positions:\n",
    "            test_board[player1move]=player1\n",
    "            display_board(test_board)\n",
    "            open_positions=check_open(test_board)\n",
    "            current_player=player2\n",
    "        else:\n",
    "            player1move=int(input(f'Player 1, choose OPEN board position: {open_positions}'))\n",
    "            if player1move in open_positions:\n",
    "                test_board[player1move]=player1\n",
    "                display_board(test_board)\n",
    "                open_positions=check_open(test_board)\n",
    "                current_player=player2\n",
    "    win=check_win(test_board)\n",
    "    print(win)\n",
    "        \n",
    "\n",
    "    while current_player==player2:\n",
    "        player2move=int(input(f'Player 2, choose open board position: {open_positions}'))\n",
    "        if player2move in open_positions:\n",
    "            test_board[player2move]=player2\n",
    "            display_board(test_board)\n",
    "            open_positions=check_open(test_board)\n",
    "            current_player=player1\n",
    "        else:\n",
    "            player1move=int(input(f'Player 2, choose OPEN board position: {open_positions}'))\n",
    "            if player2move in open_positions:\n",
    "                test_board[player2move]=player2\n",
    "                display_board(test_board)\n",
    "                open_positions=check_open(test_board)\n",
    "                current_player=player1\n",
    "    win=check_win(test_board)\n",
    "    print(win)\n",
    "        \n",
    "    \n",
    "        \n"
   ]
  }
 ],
 "metadata": {
  "kernelspec": {
   "display_name": "Python 3 (ipykernel)",
   "language": "python",
   "name": "python3"
  },
  "language_info": {
   "codemirror_mode": {
    "name": "ipython",
    "version": 3
   },
   "file_extension": ".py",
   "mimetype": "text/x-python",
   "name": "python",
   "nbconvert_exporter": "python",
   "pygments_lexer": "ipython3",
   "version": "3.10.9"
  }
 },
 "nbformat": 4,
 "nbformat_minor": 1
}
